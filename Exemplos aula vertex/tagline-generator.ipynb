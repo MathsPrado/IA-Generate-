{
 "cells": [
  {
   "cell_type": "code",
   "execution_count": 1,
   "id": "05c92708-4d66-4f8c-b312-1f7a02ac94e2",
   "metadata": {
    "tags": []
   },
   "outputs": [
    {
     "name": "stdout",
     "output_type": "stream",
     "text": [
      "##\n",
      " Customizable Tagline Generator for Cymbal Direct:\n",
      "\n",
      "**Here's how to\n",
      " create your own tagline:**\n",
      "\n",
      "1. **Choose one phrase from each category:**\n",
      "\n",
      "\n",
      "   **Category A:**\n",
      "     * Discover [Your/The] Wild\n",
      "     * Embrace [Your/The] Outdoors\n",
      "     * Unleash [\n",
      "Your/The] Explorer Within\n",
      "     * Adventure Awaits in\n",
      "     * Find Yourself in\n",
      "     * Get Lost in\n",
      "    \n",
      "   **Category B\n",
      ":**\n",
      "     * Nature's Playground\n",
      "     * The Great Outdoors\n",
      "     * The Wild Unknown\n",
      "     * Nature's Embrace\n",
      "\n",
      "2. **Add your product name (optional).**\n",
      "\n",
      "**Examples:**\n",
      "\n",
      "* **Discover Your\n",
      " Wild** with [Product Name] backpacks.\n",
      "* **Embrace the Outdoors.** Explore with [Product Name]. \n",
      "* **Find Yourself in Nature's Embrace.** Experience [Product Name] gear.\n",
      "* **Get Lost in the\n",
      " Wild Unknown.**  [Product Name] - Gear for the journey.\n",
      "\n",
      "**Bonus:**\n",
      "\n",
      "* For a minimalist feel, try a tagline with just one phrase from Category A.\n",
      "* Use strong action verbs for added impact. \n",
      "* Keep it short and memorable.\n",
      "\n",
      "**Example using the \"durable backpack\"\n",
      " prompt and the generator:**\n",
      "\n",
      "Tagline options:\n",
      "\n",
      "* **Embrace the Outdoors.** Explore with the [Product Name] backpack.\n",
      "* Built for the Journey: **Find Yourself in Nature's Embrace.**\n",
      "* **Adventure Awaits in Nature's Playground.** Gear up with [Product Name]. \n",
      "\n",
      "\n"
     ]
    }
   ],
   "source": [
    "from vertexai.preview.generative_models import GenerativeModel\n",
    "\n",
    "model = GenerativeModel(\"gemini-1.5-pro\")\n",
    "\n",
    "prompt = \"\"\"\n",
    "Cymbal Direct is partnering with an outdoor gear retailer. They\\'re launching a new line of products designed to encourage young people to explore the outdoors. Help them create catchy taglines for this product line.\n",
    "\n",
    "input: Write a tagline for a durable backpack designed for hikers that makes them feel prepared. Consider styles like minimalist.\n",
    "output: Built for the Journey: Your Adventure Essentials.\n",
    "\n",
    "\n",
    "input: create a customizable tagline generator for Cymbal Direct\\'s new product line. includes the keyword nature.\n",
    "output:\n",
    "\"\"\"\n",
    "\n",
    "responses = model.generate_content(\n",
    "    prompt,\n",
    "    generation_config={\n",
    "        \"temperature\": 1,\n",
    "        \"max_output_tokens\": 2048,\n",
    "        \"top_p\": 1.0,\n",
    "        \"top_k\": 40,\n",
    "    },\n",
    "    stream=True\n",
    "    )\n",
    "\n",
    "for response in responses:\n",
    "    print(response.text)"
   ]
  },
  {
   "cell_type": "code",
   "execution_count": null,
   "id": "6b801815-8868-4c43-a479-547a5bf64662",
   "metadata": {},
   "outputs": [],
   "source": []
  }
 ],
 "metadata": {
  "environment": {
   "kernel": "python3",
   "name": "tf2-cpu.2-17.m125",
   "type": "gcloud",
   "uri": "us-docker.pkg.dev/deeplearning-platform-release/gcr.io/tf2-cpu.2-17:m125"
  },
  "kernelspec": {
   "display_name": "Python 3 (Local)",
   "language": "python",
   "name": "python3"
  },
  "language_info": {
   "codemirror_mode": {
    "name": "ipython",
    "version": 3
   },
   "file_extension": ".py",
   "mimetype": "text/x-python",
   "name": "python",
   "nbconvert_exporter": "python",
   "pygments_lexer": "ipython3",
   "version": "3.10.15"
  }
 },
 "nbformat": 4,
 "nbformat_minor": 5
}
